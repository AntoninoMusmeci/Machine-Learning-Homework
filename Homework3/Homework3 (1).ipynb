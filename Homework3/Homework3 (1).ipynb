{
  "nbformat": 4,
  "nbformat_minor": 0,
  "metadata": {
    "colab": {
      "name": "Homework3",
      "provenance": [],
      "collapsed_sections": []
    },
    "kernelspec": {
      "name": "python3",
      "display_name": "Python 3"
    },
    "accelerator": "GPU"
  },
  "cells": [
    {
      "cell_type": "markdown",
      "metadata": {
        "id": "lAwr6PKGHxr9",
        "colab_type": "text"
      },
      "source": [
        "**DANN MODEL**"
      ]
    },
    {
      "cell_type": "code",
      "metadata": {
        "id": "m7Llzlh2I104",
        "colab_type": "code",
        "colab": {}
      },
      "source": [
        "import torch\n",
        "import torch.nn as nn\n",
        "from torch.utils.model_zoo import load_url as load_state_dict_from_url\n",
        "from torch.autograd import Function\n",
        "\n",
        "class ReverseLayerF(Function):\n",
        "\n",
        "    # Forwards identity\n",
        "\n",
        "    # Sends backward reversed gradients\n",
        "\n",
        "    @staticmethod\n",
        "\n",
        "    def forward(ctx, x, alpha):\n",
        "        ctx.alpha = alpha\n",
        "        return x.view_as(x)\n",
        "\n",
        "    @staticmethod\n",
        "\n",
        "    def backward(ctx, grad_output):\n",
        "    #    print('backward')\n",
        "        output = (grad_output.neg() * ctx.alpha)\n",
        "\n",
        "        return output, None\n",
        "\n",
        "\n",
        "\n",
        "model_urls = {\n",
        "    'alexnet': 'https://download.pytorch.org/models/alexnet-owt-4df8aa71.pth',\n",
        "}\n",
        "\n",
        "\n",
        "class DANN(nn.Module):\n",
        "\n",
        "    def __init__(self, num_classes=1000):\n",
        "        super(DANN, self).__init__()\n",
        "        # FEATURES EXTRACTOR\n",
        "\n",
        "        self.features = nn.Sequential(\n",
        "            nn.Conv2d(3, 64, kernel_size=11, stride=4, padding=2),\n",
        "            nn.ReLU(inplace=True),\n",
        "            nn.MaxPool2d(kernel_size=3, stride=2),\n",
        "            nn.Conv2d(64, 192, kernel_size=5, padding=2),\n",
        "            nn.ReLU(inplace=True),\n",
        "            nn.MaxPool2d(kernel_size=3, stride=2),\n",
        "            nn.Conv2d(192, 384, kernel_size=3, padding=1),\n",
        "            nn.ReLU(inplace=True),\n",
        "            nn.Conv2d(384, 256, kernel_size=3, padding=1),\n",
        "            nn.ReLU(inplace=True),\n",
        "            nn.Conv2d(256, 256, kernel_size=3, padding=1),\n",
        "            nn.ReLU(inplace=True),\n",
        "            nn.MaxPool2d(kernel_size=3, stride=2),\n",
        "        )\n",
        "        self.avgpool = nn.AdaptiveAvgPool2d((6, 6))\n",
        "\n",
        "         # LABELS CLASSIFIER\n",
        "        self.classifier = nn.Sequential(\n",
        "            nn.Dropout(),\n",
        "            nn.Linear(256 * 6 * 6, 4096),\n",
        "            nn.ReLU(inplace=True),\n",
        "            nn.Dropout(),\n",
        "            nn.Linear(4096, 4096),\n",
        "            nn.ReLU(inplace=True),\n",
        "            nn.Linear(4096, num_classes),\n",
        "        )\n",
        "         # DOMAIN CLASSIFIER\n",
        "        self.domain_classifier = nn.Sequential(\n",
        "            nn.Dropout(),\n",
        "            nn.Linear(256 * 6 * 6, 4096),\n",
        "            nn.ReLU(inplace=True),\n",
        "            nn.Dropout(),\n",
        "            nn.Linear(4096, 4096),\n",
        "            nn.ReLU(inplace=True),\n",
        "            nn.Linear(4096, 2),\n",
        "        )\n",
        "\n",
        "\n",
        "\n",
        "    def forward(self, x , alpha=None):\n",
        "        x = self.features(x)\n",
        "        features = self.avgpool(x)\n",
        "        \n",
        "        features = features.view(features.size(0), -1)\n",
        "       # features = torch.flatten(x, 1)\n",
        "\n",
        "\n",
        "        if alpha is not None:\n",
        "           \n",
        "            reverse_feature =  ReverseLayerF.apply(features, alpha)\n",
        "            domain_out = self.domain_classifier(reverse_feature)\n",
        "            return domain_out\n",
        "        else:\n",
        "            class_out = self.classifier(features)\n",
        "            return class_out\n",
        "\n",
        "\n",
        "\n",
        "\n",
        "\n",
        "def dann(pretrained=False, progress=True, **kwargs):\n",
        "\n",
        "    model = DANN(**kwargs)\n",
        "    if pretrained:\n",
        "        state_dict = load_state_dict_from_url(model_urls['alexnet'],\n",
        "                                              progress=progress)\n",
        "        \n",
        "        model.load_state_dict(state_dict, strict=False )\n",
        "        model.domain_classiﬁer[1].weight.data = model.classiﬁer[1].weight.data\n",
        "        model.domain_classiﬁer[4].weight.data = model.classiﬁer[4].weight.data\n",
        "        model.domain_classiﬁer[1].bias.data = model.classiﬁer[1].bias.data\n",
        "        model.domain_classiﬁer[4].bias.data = model.classiﬁer[4].bias.data\n",
        "\n",
        "    return model"
      ],
      "execution_count": 0,
      "outputs": []
    },
    {
      "cell_type": "code",
      "metadata": {
        "id": "oOTslrsdXPRN",
        "colab_type": "code",
        "colab": {}
      },
      "source": [
        "PRINT_LOSS = False\n",
        "DEVICE = 'cuda'"
      ],
      "execution_count": 0,
      "outputs": []
    },
    {
      "cell_type": "markdown",
      "metadata": {
        "id": "E1iHC5H8HtjG",
        "colab_type": "text"
      },
      "source": [
        "**FUNCTION**\n"
      ]
    },
    {
      "cell_type": "code",
      "metadata": {
        "id": "arAPjMlkxtsy",
        "colab_type": "code",
        "colab": {}
      },
      "source": [
        "# # By default, everything is loaded to cpu\n",
        "# net = net.to(DEVICE) # this will bring the network to GPU if DEVICE is cuda\n",
        "def TrainModel(net,n_epoch,scheduler,source_dataloader,target_dataloader,criterion,optimizer):\n",
        "  cudnn.benchmark # Calling this optimizes runtime\n",
        "  current_step = 0\n",
        "  # Start iterating over the epochs\n",
        "  for epoch in range(n_epoch):\n",
        "    #print('Starting epoch {}/{}, LR = {}'.format(epoch+1, n_epoch, scheduler.get_lr()))\n",
        "\n",
        "    # Iterate over the dataset\n",
        "\n",
        "    # len_dataloader = min(len(source_dataloader), len(target_dataloader))\n",
        "    for source_images, labels in source_dataloader:\n",
        "  \n",
        "      # Bring data over the device of choice\n",
        "\n",
        "    \n",
        "      source_images = source_images.to(DEVICE)\n",
        "      labels = labels.to(DEVICE)\n",
        "      # target_images = target_images.to(DEVICE)\n",
        "      # domain_label =  torch.zeros(len(source_images)).long().cuda()\n",
        "      # target_domain_label =  torch.ones(len(target_images)).long().cuda()\n",
        "\n",
        "\n",
        "      net.train() # Sets module in training mode\n",
        "      #################################################\n",
        "                      #TRAINING SOURCE CLASS\n",
        "      #################################################\n",
        "      # We need to manually set the gradients to zero before starting a new iteration\n",
        "      optimizer.zero_grad() # Zero-ing the gradients\n",
        "      outputs = net(source_images)\n",
        "      \n",
        "      loss = criterion(outputs, labels)\n",
        "  \n",
        "      # Log loss\n",
        "      if(PRINT_LOSS == True):\n",
        "        if current_step % LOG_FREQUENCY == 0:\n",
        "          print('Step {}, Loss {}'.format(current_step, loss.item()))\n",
        "\n",
        "      # Compute gradients for each layer and update weights\n",
        "      loss.backward()  # backward pass: computes gradients\n",
        "\n",
        "      optimizer.step() # update weights based on accumulated gradients\n",
        "\n",
        "      current_step += 1\n",
        "  \n",
        "    # Step the scheduler\n",
        "    scheduler.step() \n",
        "\n",
        "\n",
        "def TrainModelDANN(net,n_epoch,scheduler,source_dataloader,target_dataloader,criterion,optimizer,alpha):\n",
        "  cudnn.benchmark # Calling this optimizes runtime\n",
        "  current_step = 0\n",
        "  L_t = []\n",
        "  L_s = []\n",
        "  L_p = []\n",
        "  # Start iterating over the epochs\n",
        "  for epoch in range(n_epoch):\n",
        "    #print('Starting epoch {}/{}, LR = {}'.format(epoch+1, n_epoch, scheduler.get_lr()))\n",
        "\n",
        "    # Iterate over the dataset\n",
        "\n",
        "    len_dataloader = min(len(source_dataloader), len(target_dataloader))\n",
        "    data_zip =zip(source_dataloader,target_dataloader)\n",
        "    for (source_images, labels), (target_images, _) in data_zip:\n",
        "  \n",
        "      # Bring data over the device of choice\n",
        "\n",
        "\n",
        "      # p = float(current_step + epoch * len_dataloader) / \\\n",
        "      #             NUM_EPOCHS / len_dataloader\n",
        "      # alpha = 2. / (1. + np.exp(-10 * p)) - 1\n",
        "      \n",
        "    \n",
        "      source_images = source_images.to(DEVICE)\n",
        "      labels = labels.to(DEVICE)\n",
        "      target_images = target_images.to(DEVICE)\n",
        "      domain_label =  torch.zeros(len(source_images)).long().cuda()\n",
        "      target_domain_label =  torch.ones(len(target_images)).long().cuda()\n",
        "\n",
        "\n",
        "      net.train() # Sets module in training mode\n",
        "      #################################################\n",
        "                      #TRAINING SOURCE CLASS\n",
        "      #################################################\n",
        "      # We need to manually set the gradients to zero before starting a new iteration\n",
        "      optimizer.zero_grad() # Zero-ing the gradients\n",
        "      outputs = net(source_images,None)\n",
        "      \n",
        "      loss = criterion(outputs, labels)\n",
        "  \n",
        "      # Log loss\n",
        "      if(PRINT_LOSS == True):\n",
        "        if current_step % LOG_FREQUENCY == 0:\n",
        "          print('Step {}, Loss {}'.format(current_step, loss.item()))\n",
        "          L_p.append(loss)\n",
        "          \n",
        "\n",
        "      # Compute gradients for each layer and update weights\n",
        "      loss.backward()  # backward pass: computes gradients\n",
        "\n",
        "\n",
        "    #################################################\n",
        "                      #TRAINING SOURCE DOMAIN\n",
        "    #################################################\n",
        "    # optimizer.zero_grad() # Zero-ing the gradients\n",
        "      domain_outputs = net(source_images,alpha)\n",
        "\n",
        "\n",
        "      loss = criterion(domain_outputs,domain_label)\n",
        "\n",
        "      # Log loss\n",
        "      if(PRINT_LOSS == True):\n",
        "        if current_step % LOG_FREQUENCY == 0:\n",
        "          print('Step {}, Loss {}'.format(current_step, loss.item()))\n",
        "          L_s.append(loss)\n",
        "      loss.backward() \n",
        "      \n",
        "      #################################################\n",
        "                      #TRAINING TARGET DOMAIN\n",
        "      #################################################\n",
        "  #   optimizer.zero_grad() # Zero-ing the gradients\n",
        "      target_outputs = net(target_images,alpha)\n",
        "\n",
        "      loss = criterion(target_outputs,target_domain_label)\n",
        "      # Log loss\n",
        "      if(PRINT_LOSS == True):\n",
        "        if current_step % LOG_FREQUENCY == 0:\n",
        "          print('Step {}, Loss {}'.format(current_step, loss.item()))\n",
        "          L_t.append(loss)\n",
        "\n",
        "      loss.backward() \n",
        "\n",
        "      optimizer.step() # update weights based on accumulated gradients\n",
        "\n",
        "      current_step += 1\n",
        "    # e.append(current_step)\n",
        "    # L.append(loss)\n",
        "\n",
        "    # Step the scheduler\n",
        "    scheduler.step() \n",
        "  return L_s,L_t,L_p\n",
        "\n",
        "\n",
        "# print('Test Accuracy: {}'.format(accuracy))\n",
        "def testModel(model,testset): \n",
        "  # net = net.to(DEVICE) # this will bring the network to GPU if DEVICE is cuda\n",
        "  model.train(False) # Set Network to evaluation mode\n",
        "\n",
        "  running_corrects = 0\n",
        "  for images, labels in testset:\n",
        "    images = images.to(DEVICE)\n",
        "    labels = labels.to(DEVICE)\n",
        "\n",
        "    # Forward Pass\n",
        "    outputs = model(images)\n",
        "\n",
        "    # Get predictions\n",
        "    _, preds = torch.max(outputs.data, 1)\n",
        "\n",
        "    # Update Corrects\n",
        "    running_corrects += torch.sum(preds == labels.data).data.item()\n",
        "\n",
        "  # Calculate Accuracy\n",
        "  accuracy = running_corrects / float(len(testset.dataset))\n",
        "#  print(\"Correctly predicted\"running_corrects)\n",
        "  print('Test Accuracy: {}'.format(accuracy))\n",
        "  model.train(True)\n",
        "  return float(accuracy)\n"
      ],
      "execution_count": 0,
      "outputs": []
    },
    {
      "cell_type": "markdown",
      "metadata": {
        "id": "c9QcGnGPdX2C",
        "colab_type": "text"
      },
      "source": [
        "\n",
        "**Install requirements**"
      ]
    },
    {
      "cell_type": "code",
      "metadata": {
        "id": "k9O3aM3Tb28q",
        "colab_type": "code",
        "colab": {}
      },
      "source": [
        "# !pip3 install 'torch==1.3.1'\n",
        "# !pip3 install 'torchvision==0.4.2'\n",
        "# !pip3 install 'Pillow-SIMD'\n",
        "# !pip3 install 'tqdm'"
      ],
      "execution_count": 0,
      "outputs": []
    },
    {
      "cell_type": "markdown",
      "metadata": {
        "id": "fo942LMOdlh4",
        "colab_type": "text"
      },
      "source": [
        "**Import libraries**"
      ]
    },
    {
      "cell_type": "code",
      "metadata": {
        "id": "DokFOdD1dJEl",
        "colab_type": "code",
        "colab": {}
      },
      "source": [
        "import os\n",
        "import logging\n",
        "import numpy as np\n",
        "import torch\n",
        "\n",
        "import torch.nn as nn\n",
        "import torch.optim as optim\n",
        "from torch.utils.data import Subset, DataLoader\n",
        "from torch.backends import cudnn\n",
        "\n",
        "import torchvision\n",
        "from torchvision import transforms\n",
        "from torchvision.models import alexnet\n",
        "\n",
        "from PIL import Image\n",
        "from tqdm import tqdm"
      ],
      "execution_count": 0,
      "outputs": []
    },
    {
      "cell_type": "markdown",
      "metadata": {
        "id": "OIDLJuIXK_vh",
        "colab_type": "text"
      },
      "source": [
        "**Set Arguments**"
      ]
    },
    {
      "cell_type": "code",
      "metadata": {
        "id": "d5PkYfqfK_SA",
        "colab_type": "code",
        "colab": {}
      },
      "source": [
        "DEVICE = 'cuda' # 'cuda' or 'cpu'\n",
        "\n",
        "NUM_CLASSES = 7 # 101 + 1: There is am extra Background class that should be removed \n",
        "\n",
        "BATCH_SIZE = 256    # Higher batch sizes allows for larger learning rates. An empirical heuristic suggests that, when changing\n",
        "                     # the batch size, learning rate should change by the same factor to have comparable results\n",
        "\n",
        "LR = 0.01          # The initial Learning Rate\n",
        "MOMENTUM = 0.9       # Hyperparameter for SGD, keep this at 0.9 when using SGD\n",
        "WEIGHT_DECAY = 5e-5  # Regularization, you can keep this at the default\n",
        "\n",
        "NUM_EPOCHS = 10     # Total number of training epochs (iterations over dataset)\n",
        "STEP_SIZE =   200    # How many epochs before decreasing learning rate (if using a step-down policy)\n",
        "GAMMA = 0.1          # Multiplicative factor for learning rate step-down\n",
        "\n",
        "LOG_FREQUENCY = 10"
      ],
      "execution_count": 0,
      "outputs": []
    },
    {
      "cell_type": "markdown",
      "metadata": {
        "id": "9gwii0TBHvzh",
        "colab_type": "text"
      },
      "source": [
        "**Define Data Preprocessing**"
      ]
    },
    {
      "cell_type": "code",
      "metadata": {
        "id": "QUDdw4j2H0Mc",
        "colab_type": "code",
        "colab": {}
      },
      "source": [
        "# Define transforms for training phase\n",
        "train_transform = transforms.Compose([transforms.Resize(256),      # Resizes short size of the PIL image to 256\n",
        "                                      transforms.CenterCrop(224),  # Crops a central square patch of the image\n",
        "                                                                   # 224 because torchvision's AlexNet needs a 224x224 input!\n",
        "                                                                   # Remember this when applying different transformations, otherwise you get an error\n",
        "                                      transforms.ToTensor(), # Turn PIL Image to torch.Tensor\n",
        "                                      transforms.Normalize(mean=[0.485, 0.456, 0.406], std=[0.229, 0.224, 0.225])])\n",
        "# Define transforms for the evaluation phase\n",
        "eval_transform = transforms.Compose([transforms.Resize(256),\n",
        "                                      transforms.CenterCrop(224),\n",
        "                                      transforms.ToTensor(),\n",
        "                                      transforms.Normalize(mean=[0.485, 0.456, 0.406], std=[0.229, 0.224, 0.225])])                                   "
      ],
      "execution_count": 0,
      "outputs": []
    },
    {
      "cell_type": "markdown",
      "metadata": {
        "id": "2qYIHPzYLY7i",
        "colab_type": "text"
      },
      "source": [
        "**Prepare Dataset**"
      ]
    },
    {
      "cell_type": "code",
      "metadata": {
        "id": "QfVq_uDHLbsR",
        "colab_type": "code",
        "colab": {}
      },
      "source": [
        "if not os.path.isdir('./Homework3-PACS'):\n",
        "  !git clone https://github.com/MachineLearning2020/Homework3-PACS.git\n",
        "\n",
        "DATA_DIR = 'Homework3-PACS/PACS'\n",
        "\n",
        "art_dataset = torchvision.datasets.ImageFolder(DATA_DIR+\"/art_painting\", transform=train_transform)\n",
        "photo_dataset = torchvision.datasets.ImageFolder(DATA_DIR+\"/photo\", transform=train_transform)\n",
        "cartoon_dataset = torchvision.datasets.ImageFolder(DATA_DIR+\"/cartoon\", transform=train_transform)\n",
        "sketch_dataset = torchvision.datasets.ImageFolder(DATA_DIR+\"/sketch\", transform=train_transform)\n"
      ],
      "execution_count": 0,
      "outputs": []
    },
    {
      "cell_type": "code",
      "metadata": {
        "id": "D_LDMMx1AIXI",
        "colab_type": "code",
        "colab": {}
      },
      "source": [
        "##Print Images\n",
        "# import numpy as np\n",
        "# import matplotlib.pyplot as plt\n",
        "# %matplotlib inline\n",
        "\n",
        "# import matplotlib as mpl\n",
        "# mpl.rcParams['axes.grid'] = False\n",
        "# mpl.rcParams['image.interpolation'] = 'nearest'\n",
        "# mpl.rcParams['figure.figsize'] = 5, 5\n",
        "\n",
        "# def show_dataset(dataset, n=1):\n",
        "#   img = np.vstack((np.hstack((np.asarray(dataset[i][0]) for _ in range(n)))\n",
        "#                    for i in range(len(dataset))))\n",
        "#   plt.imshow(img.transpose(1, 2, 0))\n",
        "#   plt.axis('off')"
      ],
      "execution_count": 0,
      "outputs": []
    },
    {
      "cell_type": "code",
      "metadata": {
        "id": "bEGI2cAsASV0",
        "colab_type": "code",
        "colab": {}
      },
      "source": [
        "\n",
        "# try_dataset = Subset(photo_dataset, [1])\n",
        "# show_dataset(try_dataset)\n",
        "# try_dataset = Subset(art_dataset, [1])\n",
        "# show_dataset(try_dataset)"
      ],
      "execution_count": 0,
      "outputs": []
    },
    {
      "cell_type": "code",
      "metadata": {
        "id": "dWtYAkcCE-kw",
        "colab_type": "code",
        "colab": {}
      },
      "source": [
        ""
      ],
      "execution_count": 0,
      "outputs": []
    },
    {
      "cell_type": "markdown",
      "metadata": {
        "id": "FYEDQ7Z21ldN",
        "colab_type": "text"
      },
      "source": [
        "**Prepare Dataloaders**"
      ]
    },
    {
      "cell_type": "code",
      "metadata": {
        "id": "VriRw8SI1nle",
        "colab_type": "code",
        "colab": {}
      },
      "source": [
        "\n",
        "sketch_dataloader = DataLoader(sketch_dataset, batch_size=BATCH_SIZE, shuffle=False, num_workers=4)\n",
        "cartoon_dataloader = DataLoader(cartoon_dataset, batch_size=BATCH_SIZE, shuffle=False, num_workers=4)\n",
        "art_dataloader = DataLoader(art_dataset, batch_size=BATCH_SIZE, shuffle=True, num_workers=4)\n",
        "photo_dataloader = DataLoader(photo_dataset, batch_size=BATCH_SIZE, shuffle=True, num_workers=4)\n",
        "\n",
        "source_dataloader = photo_dataloader \n",
        "target_dataloader = art_dataloader\n",
        "\n",
        "# len(train_dataloader.dataset)\n"
      ],
      "execution_count": 0,
      "outputs": []
    },
    {
      "cell_type": "markdown",
      "metadata": {
        "id": "gbZ1t5Qs2z4j",
        "colab_type": "text"
      },
      "source": [
        "**Prepare Network**"
      ]
    },
    {
      "cell_type": "code",
      "metadata": {
        "id": "exHUjtXa22DN",
        "colab_type": "code",
        "colab": {}
      },
      "source": [
        "\n",
        "# net = dann(pretrained = True)\n",
        "# net.classifier[6] = nn.Linear(4096, NUM_CLASSES)"
      ],
      "execution_count": 0,
      "outputs": []
    },
    {
      "cell_type": "markdown",
      "metadata": {
        "id": "KEyL3H_R4qCf",
        "colab_type": "text"
      },
      "source": [
        "**Prepare Training**"
      ]
    },
    {
      "cell_type": "code",
      "metadata": {
        "id": "9sjq00G94tSc",
        "colab_type": "code",
        "colab": {}
      },
      "source": [
        "\n",
        "\n",
        " \n",
        "# parameters_to_optimize = net.parameters() # In this case we optimize over all the parameters of AlexNet\n",
        "\n",
        "# optimizer = optim.SGD(parameters_to_optimize, lr=LR, momentum=MOMENTUM, weight_decay=WEIGHT_DECAY)\n",
        "\n",
        "# scheduler = optim.lr_scheduler.StepLR(optimizer, step_size=STEP_SIZE, gamma=GAMMA)\n",
        "\n",
        "# domain_label = torch.zeros(BATCH_SIZE)\n",
        "\n",
        "# domain_label = domain_label.long()\n",
        "# domain_label = domain_label.cuda()\n",
        "\n",
        "\n",
        "# alpha = 0.08\n",
        "\n",
        "criterion = nn.CrossEntropyLoss() # for classification, we use Cross Entropy\n",
        "DEVICE = 'cuda'\n",
        "lr_list = [0.0001, 0.0005, 0.001,0.005,0.01]\n",
        "alpha_list = [0.001,0.005,0.01,0.03,0.05,0.08,0.1]\n",
        "\n",
        "\n",
        "\n"
      ],
      "execution_count": 0,
      "outputs": []
    },
    {
      "cell_type": "markdown",
      "metadata": {
        "id": "VXdjkmRp8VB3",
        "colab_type": "text"
      },
      "source": [
        "**3.VALIDATION ON TEST SET WITHOUT DOMAIN ADAPTATION** "
      ]
    },
    {
      "cell_type": "code",
      "metadata": {
        "id": "k691RUeLFck2",
        "colab_type": "code",
        "colab": {}
      },
      "source": [
        "# old_accuracy = 0\n",
        "# for LR in lr_list:\n",
        "#   net = alexnet(pretrained = True)\n",
        "#   net.classifier[6] = nn.Linear(4096, NUM_CLASSES)\n",
        "#   DEVICE = 'cuda'\n",
        "#   net.to(DEVICE)\n",
        "#   criterion = nn.CrossEntropyLoss() # for classification, we use Cross Entropy\n",
        "#   parameters_to_optimize = net.parameters() # In this case we optimize over all the parameters of AlexNet\n",
        "#   optimizer = optim.SGD(parameters_to_optimize, lr=LR, momentum=MOMENTUM, weight_decay=WEIGHT_DECAY)\n",
        "#   scheduler = optim.lr_scheduler.StepLR(optimizer, step_size=STEP_SIZE, gamma=GAMMA)\n",
        "#   print(\"Hyperparameter Learning Rate = \", LR)  \n",
        "#   #######################################\n",
        "#   # TRAIN MODEL \n",
        "#   ########################################\n",
        "#   TrainModel(net,10,scheduler,source_dataloader,target_dataloader,criterion,optimizer)\n",
        "#   ########################################\n",
        "#   # TEST MODEL\n",
        "#   ########################################\n",
        "#   accuracy = testModel(net,target_dataloader) # we test the model on the target_dataloader to do validation (\"cheating\")\n",
        "#   print(\"Accuracy\", accuracy)\n",
        "#   if(accuracy > old_accuracy):\n",
        "#     best_lr = LR\n",
        "  \n",
        "#     torch.save(net.state_dict(), 'model.pt')\n",
        "#     old_accuracy = accuracy\n"
      ],
      "execution_count": 0,
      "outputs": []
    },
    {
      "cell_type": "markdown",
      "metadata": {
        "id": "AxYUli9d9uYQ",
        "colab_type": "text"
      },
      "source": [
        "**3.VALIDATION ON TEST SET WITH DOMAIN ADAPTATION** \n",
        "\n"
      ]
    },
    {
      "cell_type": "code",
      "metadata": {
        "id": "y776aLBFyxKw",
        "colab_type": "code",
        "colab": {}
      },
      "source": [
        "# NUM_EPOCHS = 5     # Total number of training epochs (iterations over dataset)\n",
        "# old_accuracy = 0\n",
        "# for LR in lr_list:\n",
        "#   for alpha in alpha_list:\n",
        "#     print(\"Hyperparameter alpha = \", alpha, \"Learning Rate = \", LR)\n",
        "#     net = dann(pretrained = True)\n",
        "#     net.classifier[6] = nn.Linear(4096, NUM_CLASSES)\n",
        "#     DEVICE = 'cuda'\n",
        "#     net.to(DEVICE)\n",
        "#     criterion = nn.CrossEntropyLoss() # for classification, we use Cross Entropy\n",
        "#     parameters_to_optimize = net.parameters() # In this case we optimize over all the parameters of AlexNet\n",
        "#     optimizer = optim.SGD(parameters_to_optimize, lr=LR, momentum=MOMENTUM, weight_decay=WEIGHT_DECAY)\n",
        "#     scheduler = optim.lr_scheduler.StepLR(optimizer, step_size=STEP_SIZE, gamma=GAMMA)\n",
        "#     ########################################\n",
        "#     # TRAIN MODEL \n",
        "#     ########################################\n",
        "#     TrainModelDANN(net,NUM_EPOCHS,scheduler,source_dataloader,target_dataloader,criterion,optimizer,alpha)\n",
        "#     ########################################\n",
        "#     # TEST MODEL\n",
        "#     ########################################\n",
        "#     accuracy = testModel(net,target_dataloader) # we test the model on the target_dataloader to do validation (\"cheating\")\n",
        "#     print(\"Accuracy\", accuracy)\n",
        "#     if(accuracy > old_accuracy):\n",
        "#       best_lr = LR\n",
        "#       best_alpha = alpha\n",
        "#       torch.save(net.state_dict(), 'model.pt')\n",
        "#       old_accuracy = accuracy\n"
      ],
      "execution_count": 0,
      "outputs": []
    },
    {
      "cell_type": "code",
      "metadata": {
        "id": "qX-notXuNZXG",
        "colab_type": "code",
        "colab": {}
      },
      "source": [
        "# print(best_alpha)\n",
        "# print(best_lr)"
      ],
      "execution_count": 0,
      "outputs": []
    },
    {
      "cell_type": "code",
      "metadata": {
        "id": "ZcoQ5fD49yT_",
        "colab_type": "code",
        "colab": {}
      },
      "source": [
        "# # By default, everything is loaded to cpu\n",
        "# net = net.to(DEVICE) # this will bring the network to GPU if DEVICE is cuda\n",
        "\n",
        "# cudnn.benchmark # Calling this optimizes runtime\n",
        "# # e = []\n",
        "# # L = []\n",
        "\n",
        "# current_step = 0\n",
        "# # Start iterating over the epochs\n",
        "# for epoch in range(NUM_EPOCHS):\n",
        "#   print('Starting epoch {}/{}, LR = {}'.format(epoch+1, NUM_EPOCHS, scheduler.get_lr()))\n",
        "\n",
        "#   # Iterate over the dataset\n",
        "\n",
        "#   len_dataloader = min(len(source_dataloader), len(target_dataloader))\n",
        "#   data_zip =zip(source_dataloader,target_dataloader)\n",
        "#   for (source_images, labels), (target_images, _) in data_zip:\n",
        " \n",
        "#     # Bring data over the device of choice\n",
        "\n",
        "\n",
        "#     # p = float(current_step + epoch * len_dataloader) / \\\n",
        "#     #             NUM_EPOCHS / len_dataloader\n",
        "#     # alpha = 2. / (1. + np.exp(-10 * p)) - 1\n",
        "   \n",
        "#     source_images = source_images.to(DEVICE)\n",
        "#     labels = labels.to(DEVICE)\n",
        "#     target_images = target_images.to(DEVICE)\n",
        "#     domain_label =  torch.zeros(len(source_images)).long().cuda()\n",
        "#     target_domain_label =  torch.ones(len(target_images)).long().cuda()\n",
        "\n",
        "\n",
        "#     net.train() # Sets module in training mode\n",
        "#     #################################################\n",
        "#                     #TRAINING SOURCE CLASS\n",
        "#     #################################################\n",
        "#     # We need to manually set the gradients to zero before starting a new iteration\n",
        "#     optimizer.zero_grad() # Zero-ing the gradients\n",
        "#     outputs = net(source_images,None)\n",
        "    \n",
        "#     loss = criterion(outputs, labels)\n",
        " \n",
        "#     # Log loss\n",
        "#     if current_step % LOG_FREQUENCY == 0:\n",
        "#       print('Step {}, Loss {}'.format(current_step, loss.item()))\n",
        "\n",
        "#     # Compute gradients for each layer and update weights\n",
        "#     loss.backward()  # backward pass: computes gradients\n",
        "\n",
        "\n",
        "#    #################################################\n",
        "#                     #TRAINING SOURCE DOMAIN\n",
        "#    #################################################\n",
        "#    # optimizer.zero_grad() # Zero-ing the gradients\n",
        "#     domain_outputs = net(source_images,alpha)\n",
        "\n",
        "\n",
        "#     loss = criterion(domain_outputs,domain_label)\n",
        "\n",
        "#     # Log loss\n",
        "#     if current_step % LOG_FREQUENCY == 0:\n",
        "#       print('Step {}, Loss {}'.format(current_step, loss.item()))\n",
        " \n",
        "#     loss.backward() \n",
        "    \n",
        "#     #################################################\n",
        "#                     #TRAINING TARGET DOMAIN\n",
        "#     #################################################\n",
        "#  #   optimizer.zero_grad() # Zero-ing the gradients\n",
        "#     target_outputs = net(target_images,alpha)\n",
        "\n",
        "#     loss = criterion(target_outputs,target_domain_label)\n",
        "#     # Log loss\n",
        "#     if current_step % LOG_FREQUENCY == 0:\n",
        "#       print('Step {}, Loss {}'.format(current_step, loss.item()))\n",
        "\n",
        "#     loss.backward() \n",
        "\n",
        "#     optimizer.step() # update weights based on accumulated gradients\n",
        "\n",
        "#     current_step += 1\n",
        "#   # e.append(current_step)\n",
        "#   # L.append(loss)\n",
        "\n",
        "#   # Step the scheduler\n",
        "#   scheduler.step() "
      ],
      "execution_count": 0,
      "outputs": []
    },
    {
      "cell_type": "markdown",
      "metadata": {
        "id": "FkiRlLNbITkf",
        "colab_type": "text"
      },
      "source": [
        "**4.CROSS DOMAIN VALIDATION**\n",
        "\n",
        "**4.A VALIDATION WITHOUT ADAPTATION**\n",
        "\n"
      ]
    },
    {
      "cell_type": "code",
      "metadata": {
        "id": "uipz1T4f9SUG",
        "colab_type": "code",
        "colab": {}
      },
      "source": [
        "# NUM_EPOCHS = 10\n",
        "# old_accuracy = 0\n",
        "# for LR in lr_list:\n",
        "#   net = alexnet(pretrained = True)\n",
        "#   net.classifier[6] = nn.Linear(4096, NUM_CLASSES)\n",
        "#   DEVICE = 'cuda'\n",
        "#   net.to(DEVICE)\n",
        "#   criterion = nn.CrossEntropyLoss() # for classification, we use Cross Entropy\n",
        "#   parameters_to_optimize = net.parameters() # In this case we optimize over all the parameters of AlexNet\n",
        "#   optimizer = optim.SGD(parameters_to_optimize, lr=LR, momentum=MOMENTUM, weight_decay=WEIGHT_DECAY)\n",
        "#   scheduler = optim.lr_scheduler.StepLR(optimizer, step_size=STEP_SIZE, gamma=GAMMA)\n",
        "#   print(\"Hyperparameter Learning Rate = \", LR)  \n",
        "#   #######################################\n",
        "#   # TRAIN MODEL \n",
        "#   ########################################\n",
        "#   TrainModel(net,NUM_EPOCHS,scheduler,source_dataloader,target_dataloader,criterion,optimizer)\n",
        "#   ########################################\n",
        "#   # TEST MODEL\n",
        "#   ########################################\n",
        "#   accuracy = testModel(net,sketch_dataloader) # we test the model on the target_dataloader to do validation (\"cheating\")\n",
        "#   accuracy = accuracy + testModel(net,cartoon_dataloader)\n",
        "#   accuracy = accuracy / 2\n",
        "#   print(\"Accuracy\", accuracy)\n",
        "#   if(accuracy > old_accuracy):\n",
        "#     best_lr = LR\n",
        "#     torch.save(net.state_dict(), 'model.pt')\n",
        "#     old_accuracy = accuracy\n",
        "\n",
        "# print(best_lr)"
      ],
      "execution_count": 0,
      "outputs": []
    },
    {
      "cell_type": "markdown",
      "metadata": {
        "id": "UsHFI-GAJd69",
        "colab_type": "text"
      },
      "source": [
        "**Test**\n"
      ]
    },
    {
      "cell_type": "code",
      "metadata": {
        "id": "dN6kWMV9tH8H",
        "colab_type": "code",
        "colab": {}
      },
      "source": [
        "\n",
        "# net.load_state_dict(torch.load('model.pt'))\n",
        "# testModel(net,art_dataloader)"
      ],
      "execution_count": 0,
      "outputs": []
    },
    {
      "cell_type": "markdown",
      "metadata": {
        "id": "tzgtyI4qR7Cb",
        "colab_type": "text"
      },
      "source": [
        "**4.B VALIDATION WITH DOMAIN ADAPTATION**"
      ]
    },
    {
      "cell_type": "code",
      "metadata": {
        "id": "wTtUm41aRmNi",
        "colab_type": "code",
        "colab": {}
      },
      "source": [
        "source_dataloader = photo_dataloader \n",
        "target_dataloader = cartoon_dataloader\n",
        "criterion = nn.CrossEntropyLoss() # for classification, we use Cross Entropy\n",
        "accuracy_list_cartoon = []\n",
        "NUM_EPOCHS = 5     # Total number of training epochs (iterations over dataset)\n",
        "old_accuracy = 0\n",
        "for LR in lr_list:\n",
        "  for alpha in alpha_list:\n",
        "    print(\"Hyperparameter alpha = \", alpha, \"Learning Rate = \", LR)\n",
        "    net = dann(pretrained = True)\n",
        "    net.classifier[6] = nn.Linear(4096, NUM_CLASSES)\n",
        "    net = net.to(DEVICE)\n",
        "    parameters_to_optimize = net.parameters() # In this case we optimize over all the parameters of AlexNet\n",
        "    optimizer = optim.SGD(parameters_to_optimize, lr=LR, momentum=MOMENTUM, weight_decay=WEIGHT_DECAY)\n",
        "    scheduler = optim.lr_scheduler.StepLR(optimizer, step_size=STEP_SIZE, gamma=GAMMA)\n",
        "    ########################################\n",
        "    # TRAIN MODEL \n",
        "    ########################################\n",
        "    TrainModelDANN(net,NUM_EPOCHS,scheduler,source_dataloader,target_dataloader,criterion,optimizer,alpha)\n",
        "    ########################################\n",
        "    # TEST MODEL\n",
        "    ########################################\n",
        "    accuracy = testModel(net,target_dataloader)\n",
        "    print(\"accuracy\", accuracy)\n",
        "    accuracy_list_cartoon.append(accuracy)"
      ],
      "execution_count": 0,
      "outputs": []
    },
    {
      "cell_type": "code",
      "metadata": {
        "id": "n5IOBEJySoWW",
        "colab_type": "code",
        "colab": {}
      },
      "source": [
        "source_dataloader = photo_dataloader \n",
        "target_dataloader = sketch_dataloader\n",
        "accuracy_list_sketch = []\n",
        "NUM_EPOCHS = 5     # Total number of training epochs (iterations over dataset)\n",
        "old_accuracy = 0\n",
        "for LR in lr_list:\n",
        "  for alpha in alpha_list:\n",
        "    print(\"Hyperparameter alpha = \", alpha, \"Learning Rate = \", LR)\n",
        "    net = dann(pretrained = True)\n",
        "    net.classifier[6] = nn.Linear(4096, NUM_CLASSES)\n",
        "    net.to(DEVICE)\n",
        "    parameters_to_optimize = net.parameters() # In this case we optimize over all the parameters of AlexNet\n",
        "    optimizer = optim.SGD(parameters_to_optimize, lr=LR, momentum=MOMENTUM, weight_decay=WEIGHT_DECAY)\n",
        "    scheduler = optim.lr_scheduler.StepLR(optimizer, step_size=STEP_SIZE, gamma=GAMMA)\n",
        "    ########################################\n",
        "    # TRAIN MODEL \n",
        "    ########################################\n",
        "    TrainModelDANN(net,NUM_EPOCHS,scheduler,source_dataloader,target_dataloader,criterion,optimizer,alpha)\n",
        "    ########################################\n",
        "    # TEST MODEL\n",
        "    ########################################\n",
        "    accuracy = testModel(net,target_dataloader) # we test the model on the target_dataloader to do validation (\"cheating\")\n",
        "    print(\"accuracy\", accuracy) \n",
        "    accuracy_list_sketch.append(accuracy)"
      ],
      "execution_count": 0,
      "outputs": []
    },
    {
      "cell_type": "code",
      "metadata": {
        "id": "PyqEjejwSuE7",
        "colab_type": "code",
        "colab": {}
      },
      "source": [
        "array_sketch = np.asarray(accuracy_list_sketch)\n",
        "array_cartoon = np.asarray(accuracy_list_cartoon)\n",
        "tot_accuracy_list = array_sketch + array_cartoon\n",
        "index = np.argmax(tot_accuracy_list)\n",
        "best_lr = lr_list[int(index/len(alpha_list))]\n",
        "best_alpha = alpha_list[index%len(alpha_list)]\n",
        "print(best_alpha)\n",
        "print(best_lr)   "
      ],
      "execution_count": 0,
      "outputs": []
    },
    {
      "cell_type": "code",
      "metadata": {
        "id": "YgRRj8NRZoZo",
        "colab_type": "code",
        "colab": {}
      },
      "source": [
        "\n",
        "\n",
        "\n",
        "source_dataloader = photo_dataloader \n",
        "target_dataloader = art_dataloader\n",
        "net = dann(pretrained = True)\n",
        "net.classifier[6] = nn.Linear(4096, NUM_CLASSES)\n",
        "net.to(DEVICE)\n",
        "parameters_to_optimize = net.parameters() # In this case we optimize over all the parameters of AlexNet\n",
        "optimizer = optim.SGD(parameters_to_optimize, lr=best_lr, momentum=MOMENTUM, weight_decay=WEIGHT_DECAY)\n",
        "scheduler = optim.lr_scheduler.StepLR(optimizer, step_size=STEP_SIZE, gamma=GAMMA)\n",
        "########################################\n",
        "# TRAIN MODEL \n",
        "########################################\n",
        "L_s,L_t,L_p = TrainModelDANN(net,10,scheduler,source_dataloader,target_dataloader,criterion,optimizer,best_alpha)\n",
        "  "
      ],
      "execution_count": 0,
      "outputs": []
    },
    {
      "cell_type": "code",
      "metadata": {
        "id": "g9npJDWN2WCm",
        "colab_type": "code",
        "colab": {}
      },
      "source": [
        "\n",
        "########################################\n",
        "# TEST MODEL\n",
        "########################################\n",
        "print(\"art painting\")\n",
        "testModel(net,target_dataloader)\n"
      ],
      "execution_count": 0,
      "outputs": []
    }
  ]
}